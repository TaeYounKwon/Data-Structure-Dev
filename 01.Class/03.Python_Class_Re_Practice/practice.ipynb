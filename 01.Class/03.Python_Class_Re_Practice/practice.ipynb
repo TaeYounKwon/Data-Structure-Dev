{
 "cells": [
  {
   "cell_type": "code",
   "execution_count": 1,
   "metadata": {},
   "outputs": [],
   "source": [
    "class shape:\n",
    "    def __init__(self):\n",
    "        self.name = 'shape'\n",
    "        self.n_angle = 0\n",
    "        self.is_shape=True \n",
    "        self.t_angle = self.n_angle * 4            \n",
    "    def printAll(self):\n",
    "        print(self.name, 'has',)\n",
    "    \n",
    "    def printtmp(self):\n",
    "        print(self.tmp)"
   ]
  },
  {
   "cell_type": "code",
   "execution_count": null,
   "metadata": {},
   "outputs": [],
   "source": [
    "# 각각 다른 개체를 말하면 다른 객체로 저장이 됨"
   ]
  }
 ],
 "metadata": {
  "kernelspec": {
   "display_name": "Python 3",
   "language": "python",
   "name": "python3"
  },
  "language_info": {
   "codemirror_mode": {
    "name": "ipython",
    "version": 3
   },
   "file_extension": ".py",
   "mimetype": "text/x-python",
   "name": "python",
   "nbconvert_exporter": "python",
   "pygments_lexer": "ipython3",
   "version": "3.9.12"
  },
  "orig_nbformat": 4
 },
 "nbformat": 4,
 "nbformat_minor": 2
}
